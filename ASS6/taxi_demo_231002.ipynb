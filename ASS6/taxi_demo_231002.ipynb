{
  "cells": [
    {
      "cell_type": "markdown",
      "id": "8180d1d4",
      "metadata": {},
      "source": [
        "Assingment 6 -- Pontus Björklid"
      ]
    },
    {
      "cell_type": "markdown",
      "id": "2e5886b2",
      "metadata": {},
      "source": [
        "Personal reflektions\n",
        "\n",
        "a. \n",
        "\n",
        "Personally I find reinforcement learing very facsinating and it was very funny to try it out!\n",
        "\n",
        "b.\n",
        "\n",
        "The task for higher grade was very hard to get a good result, in fact I never really managed to make i converge to a good solution. It was however quite interesting to try to change different aspects like the fitness function etc.\n",
        "c. \n",
        "\n",
        "It could be bigger and let you try different RL-algorithm and compare them!\n",
        "\n",
        "d. No"
      ]
    },
    {
      "cell_type": "markdown",
      "id": "e96441d4",
      "metadata": {},
      "source": [
        "2 Task A -- 2.2\n",
        "\n",
        "Q1: What are the actions the taxi driver can choose between at each time point?\n",
        "\n",
        "East, West, North, South, Pickup, Dropoff.\n",
        "\n",
        "Q2: How large are the state and action spaces in the Taxi problem?\n",
        "\n",
        "500 states x 6 actions.\n",
        "\n",
        "Q3: Which are the different rewards/penalties present in the Taxi problem?\n",
        "\n",
        "Rewards: +20 for successful dropoff\n",
        "Penalties: -1 for every step. -10 for illegal pickup/dropoff.\n",
        "\n",
        "Q4: In the context of Reinforcement Learning, what is the difference between a deterministic and stochas-\n",
        "tic policy?\n",
        "\n",
        "In a deterministic policy the agent will always chose the same action given a certain state. \n",
        "\n",
        "In a stochastic policy the agent will speciftie a probaility distribution over the set of actions. \n",
        "\n",
        "Q5: What does it mean to be a random policy?\n",
        "\n",
        "A random policy means the agent will choosen its actions completely randomly.\n",
        "\n",
        "Q6: In the context of Reinforcement Learning, what is a cumulative future reward?\n",
        "\n",
        "The total sum of rewards the agent expects to receive given a state and a policy. It represents that even if an action has a high immediate reward it might yield long term consequenses which the agent must consider.  \n",
        "\n",
        "Q7: In the context of Reinforcement Learning, what is a discount factor in the context of a cumulative\n",
        "future reward?\n",
        "\n",
        "It is a factor that decides how highly we value of future rewards.\n",
        "\n",
        "Q8: In the context of Reinforcement Learning, what does Vπ (s) mean for any given policy π where s is\n",
        "the state?\n",
        "\n",
        "Vpi(s) is the state value. Hence the cumulative future reward for the given state s and follow the optimal policy.\n",
        "\n",
        "Q9: In the context of Reinforcement Learning, what does Qπ (s, a) mean for a given policy π ?\n",
        "\n",
        "Qpi(s,a) a is the action value. Hence, the cumulative future reward, given that we are in state s and take action a and then follow the optimal policy. \n",
        "\n",
        "Q10: In the Taxi problem the Q-function is implemented as a table. What is the size and number of\n",
        "elements?\n",
        "\n",
        "500x6.\n",
        "\n",
        "Q11: What is the exploration-exploitation dilemma in the context of Reinforcement Learning?\n",
        "\n",
        "Exploration = trying something new.\n",
        "Exploitation = Using previously gained knowledge. To follow optimal policy.\n",
        "\n",
        "Q12: In the context of Reinforcement Learning, what is an ε-greedy policy and why is it important that\n",
        "ε is not zero?\n",
        "\n",
        "Following a e-greedy policy we will follow the optimal policy with a probability 1-e. And with probability e we will take a random action.\n",
        "\n",
        "Q13: What value does ε have in the Taxi problem?\n",
        "\n",
        "0.1.\n",
        "\n",
        "Q14: Q-learning involves a learning rate parameter (alpha). What are problems if it is too big or too small?\n",
        "\n",
        "Alpha is the learing rate. Too large then we will value new infromation too high and if too low we will disregrad new infromation.  \n",
        "\n",
        "Q15: A key line in the Python code is the following: state, reward, done, info = env.step(action).\n",
        "Explain what happens here, including what is action and what the variables state, reward, and done\n",
        "will contain after executing this line?\n",
        "\n",
        "Env.step(action) executes the given action and returns the state we end up in. The reward we obtained and done weather the action included a successful drop-off."
      ]
    },
    {
      "cell_type": "markdown",
      "id": "3dd15cb4",
      "metadata": {},
      "source": [
        "3 Task B \n",
        "\n",
        "Q1: The Bellman optimality equation may be interpreted as a “consistency condition” for the Q-values\n",
        "Q∗(s, a). What does “consistency condition” mean in this context?\n",
        "\n",
        "If the Q-value satisfy the Bellman opt. equation it ensures that the agent has learned the optimal policy for that state. Hence for all optimal actions the consistency condition must hold. \n",
        "\n",
        "Q2: Explain how this consistency condition be used to explain the Q-learning algorithm used in this\n",
        "assignment.\n",
        "\n",
        "In  the following code: new_value = (1 - alpha) * old_value + alpha * (reward + gamma * next_max)\n",
        "\n",
        "The new value is updated to be consistant with the cosistancy condition. Hence an immediate reward and the future maximal cumulative reward times a discount factor. This ensures that the Q-value can converge to the optimal Q-value.\n",
        "\n",
        "Q3: Why do you think the three user parameters learning rate (alpha), discount factor (gamma), and\n",
        "the epsilon called “hyperparameters” and not just “parameters”? You may compare for example with\n",
        "artificial neural networks where the is also a learning rate parameter. Hint: What happens with these\n",
        "parameters during training?\n",
        "\n",
        "Parameters are optimized and learned from the data. Hyperparameters are set in advanced and not optimized nor learned. \n",
        "\n",
        "So hyperparameters are constat during training, while the algorithm will update the parameters. \n",
        "\n",
        "Q4: The table based Q-learning used here does not work well when the table becomes very large. Try to\n",
        "explain why this and also try to explain why a table can be approximated by an artificial neural network.\n",
        "\n",
        "For each added state we add all actions assosiated with that state. Hence the Q-table growth rapidly when adding more states and becomes computationally and memory heavy. Q-table also offer no generalization, and need specific entries for each state-action pair. \n",
        "\n",
        "Since the Q-table can be viewed as a function where for a given input (state, action) it returns an Q-value, it can be approximated with a ANN. This is advantageus in the case where we have a large action-state space and when we work with continuous state spaces. \n",
        "\n",
        "Q5: The goal of reinforcement learning is to find an optimal policy. However, when using Q-learning and\n",
        "similar value function based approaches, there is no explicit formula/expression available for the policy\n",
        "function a = π(s). In other words, the action a = π(s) is determined implicitly based on the current\n",
        "value of the state s. How is the action determined in the case of Q-learning?\n",
        "\n",
        "In the case of Q-learning, the agent learns the expected cumulative reward for each state-action pair and picks the actions with the highest Q-value."
      ]
    },
    {
      "cell_type": "code",
      "execution_count": 17,
      "id": "kyXq_7_A3vUU",
      "metadata": {
        "colab": {
          "base_uri": "https://localhost:8080/"
        },
        "id": "kyXq_7_A3vUU",
        "outputId": "d2d59100-efc0-4d3d-e25a-af02101eb854"
      },
      "outputs": [
        {
          "name": "stderr",
          "output_type": "stream",
          "text": [
            "'apt-get' is not recognized as an internal or external command,\n",
            "operable program or batch file.\n",
            "'apt-get' is not recognized as an internal or external command,\n",
            "operable program or batch file.\n",
            "'apt-get' is not recognized as an internal or external command,\n",
            "operable program or batch file.\n"
          ]
        },
        {
          "name": "stdout",
          "output_type": "stream",
          "text": [
            "Collecting box2d-py\n",
            "  Downloading box2d-py-2.3.8.tar.gz (374 kB)\n",
            "     -------------------------------------- 374.5/374.5 kB 7.7 MB/s eta 0:00:00\n",
            "  Preparing metadata (setup.py): started\n",
            "  Preparing metadata (setup.py): finished with status 'done'\n",
            "Building wheels for collected packages: box2d-py\n",
            "  Building wheel for box2d-py (setup.py): started\n",
            "  Building wheel for box2d-py (setup.py): finished with status 'error'\n",
            "  Running setup.py clean for box2d-py\n",
            "Failed to build box2d-py\n",
            "Installing collected packages: box2d-py\n",
            "  Running setup.py install for box2d-py: started\n",
            "  Running setup.py install for box2d-py: finished with status 'error'\n"
          ]
        },
        {
          "name": "stderr",
          "output_type": "stream",
          "text": [
            "  error: subprocess-exited-with-error\n",
            "  \n",
            "  × python setup.py bdist_wheel did not run successfully.\n",
            "  │ exit code: 1\n",
            "  ╰─> [16 lines of output]\n",
            "      Using setuptools (version 65.5.0).\n",
            "      running bdist_wheel\n",
            "      running build\n",
            "      running build_py\n",
            "      creating build\n",
            "      creating build\\lib.win-amd64-cpython-39\n",
            "      creating build\\lib.win-amd64-cpython-39\\Box2D\n",
            "      copying library\\Box2D\\Box2D.py -> build\\lib.win-amd64-cpython-39\\Box2D\n",
            "      copying library\\Box2D\\__init__.py -> build\\lib.win-amd64-cpython-39\\Box2D\n",
            "      creating build\\lib.win-amd64-cpython-39\\Box2D\\b2\n",
            "      copying library\\Box2D\\b2\\__init__.py -> build\\lib.win-amd64-cpython-39\\Box2D\\b2\n",
            "      running build_ext\n",
            "      building 'Box2D._Box2D' extension\n",
            "      swigging Box2D\\Box2D.i to Box2D\\Box2D_wrap.cpp\n",
            "      swig.exe -python -c++ -IBox2D -small -O -includeall -ignoremissing -w201 -globals b2Globals -outdir library\\Box2D -keyword -w511 -D_SWIG_KWARGS -o Box2D\\Box2D_wrap.cpp Box2D\\Box2D.i\n",
            "      error: command 'swig.exe' failed: None\n",
            "      [end of output]\n",
            "  \n",
            "  note: This error originates from a subprocess, and is likely not a problem with pip.\n",
            "  ERROR: Failed building wheel for box2d-py\n",
            "  error: subprocess-exited-with-error\n",
            "  \n",
            "  × Running setup.py install for box2d-py did not run successfully.\n",
            "  │ exit code: 1\n",
            "  ╰─> [18 lines of output]\n",
            "      Using setuptools (version 65.5.0).\n",
            "      running install\n",
            "      C:\\Users\\pontu\\anaconda3\\envs\\tensor\\lib\\site-packages\\setuptools\\command\\install.py:34: SetuptoolsDeprecationWarning: setup.py install is deprecated. Use build and pip and other standards-based tools.\n",
            "        warnings.warn(\n",
            "      running build\n",
            "      running build_py\n",
            "      creating build\n",
            "      creating build\\lib.win-amd64-cpython-39\n",
            "      creating build\\lib.win-amd64-cpython-39\\Box2D\n",
            "      copying library\\Box2D\\Box2D.py -> build\\lib.win-amd64-cpython-39\\Box2D\n",
            "      copying library\\Box2D\\__init__.py -> build\\lib.win-amd64-cpython-39\\Box2D\n",
            "      creating build\\lib.win-amd64-cpython-39\\Box2D\\b2\n",
            "      copying library\\Box2D\\b2\\__init__.py -> build\\lib.win-amd64-cpython-39\\Box2D\\b2\n",
            "      running build_ext\n",
            "      building 'Box2D._Box2D' extension\n",
            "      swigging Box2D\\Box2D.i to Box2D\\Box2D_wrap.cpp\n",
            "      swig.exe -python -c++ -IBox2D -small -O -includeall -ignoremissing -w201 -globals b2Globals -outdir library\\Box2D -keyword -w511 -D_SWIG_KWARGS -o Box2D\\Box2D_wrap.cpp Box2D\\Box2D.i\n",
            "      error: command 'swig.exe' failed: None\n",
            "      [end of output]\n",
            "  \n",
            "  note: This error originates from a subprocess, and is likely not a problem with pip.\n",
            "error: legacy-install-failure\n",
            "\n",
            "× Encountered error while trying to install package.\n",
            "╰─> box2d-py\n",
            "\n",
            "note: This is an issue with the package mentioned above, not pip.\n",
            "hint: See above for output from the failure.\n"
          ]
        },
        {
          "name": "stdout",
          "output_type": "stream",
          "text": [
            "^C\n"
          ]
        }
      ],
      "source": [
        "# NEW 231002: The original code run does not run in Colab\n",
        "#             This cell  has to be run in order for the rendering\n",
        "#             to work in Colab\n",
        "#             Partial solution found here (but there is more to it):\n",
        "#             https://stackoverflow.com/questions/50107530/how-to-render-openai-gym-in-google-colab\n",
        "\n",
        "\n",
        "# install required system dependencies\n",
        "!apt-get install -y xvfb x11-utils\n",
        "!apt-get install python-box2d python3-box2d\n",
        "!apt-get install swig\n",
        "!pip install box2d-py\n",
        "# install required python dependencies (might need to install additional gym extras depending)\n",
        "!pip install gym[box2d]==0.17.* pyvirtualdisplay==0.2.* PyOpenGL==3.1.* PyOpenGL-accelerate==3.1.*\n",
        "\n"
      ]
    },
    {
      "cell_type": "code",
      "execution_count": null,
      "id": "GEWXpNPU317G",
      "metadata": {
        "id": "GEWXpNPU317G"
      },
      "outputs": [
        {
          "ename": "FileNotFoundError",
          "evalue": "[WinError 2] Det går inte att hitta filen",
          "output_type": "error",
          "traceback": [
            "\u001b[1;31m---------------------------------------------------------------------------\u001b[0m",
            "\u001b[1;31mFileNotFoundError\u001b[0m                         Traceback (most recent call last)",
            "\u001b[1;32mc:\\Users\\pontu\\code\\python\\skola\\AIIA\\AIIA\\ASS6\\taxi_demo_231002.ipynb Cell 2\u001b[0m line \u001b[0;36m6\n\u001b[0;32m      <a href='vscode-notebook-cell:/c%3A/Users/pontu/code/python/skola/AIIA/AIIA/ASS6/taxi_demo_231002.ipynb#W1sZmlsZQ%3D%3D?line=0'>1</a>\u001b[0m \u001b[39m#And then start a virtual display in the background.\u001b[39;00m\n\u001b[0;32m      <a href='vscode-notebook-cell:/c%3A/Users/pontu/code/python/skola/AIIA/AIIA/ASS6/taxi_demo_231002.ipynb#W1sZmlsZQ%3D%3D?line=2'>3</a>\u001b[0m \u001b[39mimport\u001b[39;00m \u001b[39mpyvirtualdisplay\u001b[39;00m\n\u001b[1;32m----> <a href='vscode-notebook-cell:/c%3A/Users/pontu/code/python/skola/AIIA/AIIA/ASS6/taxi_demo_231002.ipynb#W1sZmlsZQ%3D%3D?line=5'>6</a>\u001b[0m _display \u001b[39m=\u001b[39m pyvirtualdisplay\u001b[39m.\u001b[39;49mDisplay(visible\u001b[39m=\u001b[39;49m\u001b[39mFalse\u001b[39;49;00m, size\u001b[39m=\u001b[39;49m(\u001b[39m1400\u001b[39;49m, \u001b[39m900\u001b[39;49m)) \u001b[39m# use False with Xvfb\u001b[39;00m\n\u001b[0;32m      <a href='vscode-notebook-cell:/c%3A/Users/pontu/code/python/skola/AIIA/AIIA/ASS6/taxi_demo_231002.ipynb#W1sZmlsZQ%3D%3D?line=6'>7</a>\u001b[0m _display\u001b[39m.\u001b[39mstart()\n",
            "File \u001b[1;32mc:\\Users\\pontu\\anaconda3\\envs\\tensor\\lib\\site-packages\\pyvirtualdisplay\\display.py:54\u001b[0m, in \u001b[0;36mDisplay.__init__\u001b[1;34m(self, backend, visible, size, color_depth, bgcolor, use_xauth, retries, extra_args, manage_global_env, **kwargs)\u001b[0m\n\u001b[0;32m     51\u001b[0m \u001b[39mif\u001b[39;00m \u001b[39mnot\u001b[39;00m \u001b[39mcls\u001b[39m:\n\u001b[0;32m     52\u001b[0m     \u001b[39mraise\u001b[39;00m \u001b[39mValueError\u001b[39;00m(\u001b[39m\"\u001b[39m\u001b[39munknown backend: \u001b[39m\u001b[39m%s\u001b[39;00m\u001b[39m\"\u001b[39m \u001b[39m%\u001b[39m \u001b[39mself\u001b[39m\u001b[39m.\u001b[39m_backend)\n\u001b[1;32m---> 54\u001b[0m \u001b[39mself\u001b[39m\u001b[39m.\u001b[39m_obj \u001b[39m=\u001b[39m \u001b[39mcls\u001b[39m(\n\u001b[0;32m     55\u001b[0m     size\u001b[39m=\u001b[39msize,\n\u001b[0;32m     56\u001b[0m     color_depth\u001b[39m=\u001b[39mcolor_depth,\n\u001b[0;32m     57\u001b[0m     bgcolor\u001b[39m=\u001b[39mbgcolor,\n\u001b[0;32m     58\u001b[0m     retries\u001b[39m=\u001b[39mretries,\n\u001b[0;32m     59\u001b[0m     use_xauth\u001b[39m=\u001b[39muse_xauth,\n\u001b[0;32m     60\u001b[0m     \u001b[39m# check_startup=check_startup,\u001b[39;00m\n\u001b[0;32m     61\u001b[0m     extra_args\u001b[39m=\u001b[39mextra_args,\n\u001b[0;32m     62\u001b[0m     manage_global_env\u001b[39m=\u001b[39mmanage_global_env,\n\u001b[0;32m     63\u001b[0m     \u001b[39m*\u001b[39m\u001b[39m*\u001b[39mkwargs\n\u001b[0;32m     64\u001b[0m )\n",
            "File \u001b[1;32mc:\\Users\\pontu\\anaconda3\\envs\\tensor\\lib\\site-packages\\pyvirtualdisplay\\xvfb.py:44\u001b[0m, in \u001b[0;36mXvfbDisplay.__init__\u001b[1;34m(self, size, color_depth, bgcolor, use_xauth, fbdir, dpi, retries, extra_args, manage_global_env)\u001b[0m\n\u001b[0;32m     41\u001b[0m \u001b[39mself\u001b[39m\u001b[39m.\u001b[39m_fbdir \u001b[39m=\u001b[39m fbdir\n\u001b[0;32m     42\u001b[0m \u001b[39mself\u001b[39m\u001b[39m.\u001b[39m_dpi \u001b[39m=\u001b[39m dpi\n\u001b[1;32m---> 44\u001b[0m AbstractDisplay\u001b[39m.\u001b[39;49m\u001b[39m__init__\u001b[39;49m(\n\u001b[0;32m     45\u001b[0m     \u001b[39mself\u001b[39;49m,\n\u001b[0;32m     46\u001b[0m     PROGRAM,\n\u001b[0;32m     47\u001b[0m     use_xauth\u001b[39m=\u001b[39;49muse_xauth,\n\u001b[0;32m     48\u001b[0m     retries\u001b[39m=\u001b[39;49mretries,\n\u001b[0;32m     49\u001b[0m     extra_args\u001b[39m=\u001b[39;49mextra_args,\n\u001b[0;32m     50\u001b[0m     manage_global_env\u001b[39m=\u001b[39;49mmanage_global_env,\n\u001b[0;32m     51\u001b[0m )\n",
            "File \u001b[1;32mc:\\Users\\pontu\\anaconda3\\envs\\tensor\\lib\\site-packages\\pyvirtualdisplay\\abstractdisplay.py:85\u001b[0m, in \u001b[0;36mAbstractDisplay.__init__\u001b[1;34m(self, program, use_xauth, retries, extra_args, manage_global_env)\u001b[0m\n\u001b[0;32m     82\u001b[0m \u001b[39mself\u001b[39m\u001b[39m.\u001b[39m_pipe_wfd \u001b[39m=\u001b[39m \u001b[39mNone\u001b[39;00m\n\u001b[0;32m     83\u001b[0m \u001b[39mself\u001b[39m\u001b[39m.\u001b[39m_retries_current \u001b[39m=\u001b[39m \u001b[39m0\u001b[39m\n\u001b[1;32m---> 85\u001b[0m helptext \u001b[39m=\u001b[39m get_helptext(program)\n\u001b[0;32m     86\u001b[0m \u001b[39mself\u001b[39m\u001b[39m.\u001b[39m_has_displayfd \u001b[39m=\u001b[39m \u001b[39m\"\u001b[39m\u001b[39m-displayfd\u001b[39m\u001b[39m\"\u001b[39m \u001b[39min\u001b[39;00m helptext\n\u001b[0;32m     87\u001b[0m \u001b[39mif\u001b[39;00m \u001b[39mnot\u001b[39;00m \u001b[39mself\u001b[39m\u001b[39m.\u001b[39m_has_displayfd:\n",
            "File \u001b[1;32mc:\\Users\\pontu\\anaconda3\\envs\\tensor\\lib\\site-packages\\pyvirtualdisplay\\util.py:13\u001b[0m, in \u001b[0;36mget_helptext\u001b[1;34m(program)\u001b[0m\n\u001b[0;32m      6\u001b[0m cmd \u001b[39m=\u001b[39m [program, \u001b[39m\"\u001b[39m\u001b[39m-help\u001b[39m\u001b[39m\"\u001b[39m]\n\u001b[0;32m      8\u001b[0m \u001b[39m# py3.7+\u001b[39;00m\n\u001b[0;32m      9\u001b[0m \u001b[39m# p = subprocess.run(cmd, capture_output=True)\u001b[39;00m\n\u001b[0;32m     10\u001b[0m \u001b[39m# stderr = p.stderr\u001b[39;00m\n\u001b[0;32m     11\u001b[0m \n\u001b[0;32m     12\u001b[0m \u001b[39m# py3.6 also\u001b[39;00m\n\u001b[1;32m---> 13\u001b[0m p \u001b[39m=\u001b[39m subprocess\u001b[39m.\u001b[39;49mPopen(\n\u001b[0;32m     14\u001b[0m     cmd,\n\u001b[0;32m     15\u001b[0m     stdout\u001b[39m=\u001b[39;49msubprocess\u001b[39m.\u001b[39;49mPIPE,\n\u001b[0;32m     16\u001b[0m     stderr\u001b[39m=\u001b[39;49msubprocess\u001b[39m.\u001b[39;49mPIPE,\n\u001b[0;32m     17\u001b[0m     shell\u001b[39m=\u001b[39;49m\u001b[39mFalse\u001b[39;49;00m,\n\u001b[0;32m     18\u001b[0m )\n\u001b[0;32m     19\u001b[0m _, stderr \u001b[39m=\u001b[39m p\u001b[39m.\u001b[39mcommunicate()\n\u001b[0;32m     21\u001b[0m helptext \u001b[39m=\u001b[39m stderr\u001b[39m.\u001b[39mdecode(\u001b[39m\"\u001b[39m\u001b[39mutf-8\u001b[39m\u001b[39m\"\u001b[39m, \u001b[39m\"\u001b[39m\u001b[39mignore\u001b[39m\u001b[39m\"\u001b[39m)\n",
            "File \u001b[1;32mc:\\Users\\pontu\\anaconda3\\envs\\tensor\\lib\\subprocess.py:951\u001b[0m, in \u001b[0;36mPopen.__init__\u001b[1;34m(self, args, bufsize, executable, stdin, stdout, stderr, preexec_fn, close_fds, shell, cwd, env, universal_newlines, startupinfo, creationflags, restore_signals, start_new_session, pass_fds, user, group, extra_groups, encoding, errors, text, umask)\u001b[0m\n\u001b[0;32m    947\u001b[0m         \u001b[39mif\u001b[39;00m \u001b[39mself\u001b[39m\u001b[39m.\u001b[39mtext_mode:\n\u001b[0;32m    948\u001b[0m             \u001b[39mself\u001b[39m\u001b[39m.\u001b[39mstderr \u001b[39m=\u001b[39m io\u001b[39m.\u001b[39mTextIOWrapper(\u001b[39mself\u001b[39m\u001b[39m.\u001b[39mstderr,\n\u001b[0;32m    949\u001b[0m                     encoding\u001b[39m=\u001b[39mencoding, errors\u001b[39m=\u001b[39merrors)\n\u001b[1;32m--> 951\u001b[0m     \u001b[39mself\u001b[39;49m\u001b[39m.\u001b[39;49m_execute_child(args, executable, preexec_fn, close_fds,\n\u001b[0;32m    952\u001b[0m                         pass_fds, cwd, env,\n\u001b[0;32m    953\u001b[0m                         startupinfo, creationflags, shell,\n\u001b[0;32m    954\u001b[0m                         p2cread, p2cwrite,\n\u001b[0;32m    955\u001b[0m                         c2pread, c2pwrite,\n\u001b[0;32m    956\u001b[0m                         errread, errwrite,\n\u001b[0;32m    957\u001b[0m                         restore_signals,\n\u001b[0;32m    958\u001b[0m                         gid, gids, uid, umask,\n\u001b[0;32m    959\u001b[0m                         start_new_session)\n\u001b[0;32m    960\u001b[0m \u001b[39mexcept\u001b[39;00m:\n\u001b[0;32m    961\u001b[0m     \u001b[39m# Cleanup if the child failed starting.\u001b[39;00m\n\u001b[0;32m    962\u001b[0m     \u001b[39mfor\u001b[39;00m f \u001b[39min\u001b[39;00m \u001b[39mfilter\u001b[39m(\u001b[39mNone\u001b[39;00m, (\u001b[39mself\u001b[39m\u001b[39m.\u001b[39mstdin, \u001b[39mself\u001b[39m\u001b[39m.\u001b[39mstdout, \u001b[39mself\u001b[39m\u001b[39m.\u001b[39mstderr)):\n",
            "File \u001b[1;32mc:\\Users\\pontu\\anaconda3\\envs\\tensor\\lib\\subprocess.py:1420\u001b[0m, in \u001b[0;36mPopen._execute_child\u001b[1;34m(self, args, executable, preexec_fn, close_fds, pass_fds, cwd, env, startupinfo, creationflags, shell, p2cread, p2cwrite, c2pread, c2pwrite, errread, errwrite, unused_restore_signals, unused_gid, unused_gids, unused_uid, unused_umask, unused_start_new_session)\u001b[0m\n\u001b[0;32m   1418\u001b[0m \u001b[39m# Start the process\u001b[39;00m\n\u001b[0;32m   1419\u001b[0m \u001b[39mtry\u001b[39;00m:\n\u001b[1;32m-> 1420\u001b[0m     hp, ht, pid, tid \u001b[39m=\u001b[39m _winapi\u001b[39m.\u001b[39;49mCreateProcess(executable, args,\n\u001b[0;32m   1421\u001b[0m                              \u001b[39m# no special security\u001b[39;49;00m\n\u001b[0;32m   1422\u001b[0m                              \u001b[39mNone\u001b[39;49;00m, \u001b[39mNone\u001b[39;49;00m,\n\u001b[0;32m   1423\u001b[0m                              \u001b[39mint\u001b[39;49m(\u001b[39mnot\u001b[39;49;00m close_fds),\n\u001b[0;32m   1424\u001b[0m                              creationflags,\n\u001b[0;32m   1425\u001b[0m                              env,\n\u001b[0;32m   1426\u001b[0m                              cwd,\n\u001b[0;32m   1427\u001b[0m                              startupinfo)\n\u001b[0;32m   1428\u001b[0m \u001b[39mfinally\u001b[39;00m:\n\u001b[0;32m   1429\u001b[0m     \u001b[39m# Child is launched. Close the parent's copy of those pipe\u001b[39;00m\n\u001b[0;32m   1430\u001b[0m     \u001b[39m# handles that only the child should have open.  You need\u001b[39;00m\n\u001b[1;32m   (...)\u001b[0m\n\u001b[0;32m   1433\u001b[0m     \u001b[39m# pipe will not close when the child process exits and the\u001b[39;00m\n\u001b[0;32m   1434\u001b[0m     \u001b[39m# ReadFile will hang.\u001b[39;00m\n\u001b[0;32m   1435\u001b[0m     \u001b[39mself\u001b[39m\u001b[39m.\u001b[39m_close_pipe_fds(p2cread, p2cwrite,\n\u001b[0;32m   1436\u001b[0m                          c2pread, c2pwrite,\n\u001b[0;32m   1437\u001b[0m                          errread, errwrite)\n",
            "\u001b[1;31mFileNotFoundError\u001b[0m: [WinError 2] Det går inte att hitta filen"
          ]
        }
      ],
      "source": [
        "#And then start a virtual display in the background.\n",
        "\n",
        "import pyvirtualdisplay\n",
        "\n",
        "\n",
        "_display = pyvirtualdisplay.Display(visible=False, size=(1400, 900)) # use False with Xvfb\n",
        "_display.start()"
      ]
    },
    {
      "cell_type": "code",
      "execution_count": 5,
      "id": "given-segment",
      "metadata": {
        "id": "given-segment"
      },
      "outputs": [],
      "source": [
        "# Inspired from https://www.learndatasci.com/tutorials/reinforcement-q-learning-scratch-python-openai-gym/\n",
        "import os\n",
        "import time\n",
        "import gymnasium as gym\n",
        "import numpy as np\n",
        "from tqdm.notebook import trange, tqdm\n",
        "from IPython.display import clear_output\n",
        "from tqdm import tqdm\n",
        "import matplotlib.pyplot as plt"
      ]
    },
    {
      "cell_type": "markdown",
      "id": "encouraging-surname",
      "metadata": {
        "id": "encouraging-surname"
      },
      "source": [
        "# Taxi-v3\n",
        "This task was introduced in [Dietterich2000] to illustrate some issues in reinforcement learning. There are 4 locations (labeled by different letters) and your job is to pick up the passenger at one location and drop him off in another. You receive +20 points for a successful dropoff, and lose 1 point for every timestep it takes. There is also a 10 point penalty for illegal pick-up and drop-off actions."
      ]
    },
    {
      "cell_type": "code",
      "execution_count": 2,
      "id": "unlimited-friendly",
      "metadata": {
        "id": "unlimited-friendly"
      },
      "outputs": [],
      "source": [
        "env = gym.make(\"Taxi-v3\").env"
      ]
    },
    {
      "cell_type": "markdown",
      "id": "sudden-manitoba",
      "metadata": {
        "id": "sudden-manitoba"
      },
      "source": [
        "* **`env.reset`**: Resets the environment and returns a random initial state.\n",
        "* **`env.step(action)`**: Step the environment by one timestep. Returns\n",
        "    * **observation**: Observations of the environment\n",
        "    * **reward**: If your action was beneficial or not\n",
        "    * **done**: Indicates if we have successfully picked up and dropped off a passenger, also called one episode\n",
        "    * **info**: Additional info such as performance and latency for debugging purposes\n",
        "* **`env.render`**: Renders one frame of the environment (helpful in visualizing the environment)"
      ]
    },
    {
      "cell_type": "code",
      "execution_count": 3,
      "id": "ac914d89",
      "metadata": {},
      "outputs": [],
      "source": [
        "#LEK EJ DEL AV ASS\n",
        "env = gym.make(\"Taxi-v3\", render_mode = \"human\").env\n",
        "state, info = env.reset()\n",
        "\n",
        "DOWN = 0\n",
        "UP = 1\n",
        "RIGHT = 2\n",
        "LEFT = 3\n",
        "PICKUP = 4\n",
        "DROPOFF = 5\n",
        "\n",
        "for _ in range(100):\n",
        "  env.render()\n",
        "  env.step(env.action_space.sample()) # take a random action\n",
        "env.close()"
      ]
    },
    {
      "cell_type": "code",
      "execution_count": 3,
      "id": "dried-inclusion",
      "metadata": {
        "colab": {
          "base_uri": "https://localhost:8080/"
        },
        "id": "dried-inclusion",
        "outputId": "c0f03cc0-a6d1-4220-cb42-ec025fbf8ea1"
      },
      "outputs": [
        {
          "name": "stdout",
          "output_type": "stream",
          "text": [
            "Action Space Discrete(6)\n",
            "State Space Discrete(500)\n"
          ]
        },
        {
          "name": "stderr",
          "output_type": "stream",
          "text": [
            "c:\\Users\\pontu\\anaconda3\\envs\\tensor\\lib\\site-packages\\gymnasium\\envs\\toy_text\\taxi.py:314: UserWarning: \u001b[33mWARN: You are calling render method without specifying any render mode. You can specify the render_mode at initialization, e.g. gym.make(\"Taxi-v3\", render_mode=\"rgb_array\")\u001b[0m\n",
            "  gym.logger.warn(\n"
          ]
        }
      ],
      "source": [
        "env.reset() # reset environment to a new, random state\n",
        "env.render()\n",
        "print(\"Action Space {}\".format(env.action_space))\n",
        "print(\"State Space {}\".format(env.observation_space))"
      ]
    },
    {
      "cell_type": "markdown",
      "id": "expensive-course",
      "metadata": {
        "id": "expensive-course"
      },
      "source": [
        "* 0 = south\n",
        "* 1 = north\n",
        "* 2 = east\n",
        "* 3 = west\n",
        "* 4 = pickup\n",
        "* 5 = dropoff"
      ]
    },
    {
      "cell_type": "code",
      "execution_count": 4,
      "id": "external-inventory",
      "metadata": {
        "colab": {
          "base_uri": "https://localhost:8080/"
        },
        "id": "external-inventory",
        "outputId": "3f3c6bfc-53b4-4db1-a5b7-ca0705449651"
      },
      "outputs": [
        {
          "name": "stdout",
          "output_type": "stream",
          "text": [
            "State: 328\n"
          ]
        }
      ],
      "source": [
        "state = env.encode(3, 1, 2, 0) # (taxi row, taxi column, passenger index, destination index)\n",
        "print(\"State:\", state)\n",
        "env.s = state\n",
        "env.render()"
      ]
    },
    {
      "cell_type": "code",
      "execution_count": 4,
      "id": "871fc72c",
      "metadata": {},
      "outputs": [],
      "source": [
        "env.close()"
      ]
    },
    {
      "cell_type": "code",
      "execution_count": 5,
      "id": "removed-smooth",
      "metadata": {
        "colab": {
          "base_uri": "https://localhost:8080/"
        },
        "id": "removed-smooth",
        "outputId": "068690bf-6cfa-452b-e211-e0191e988e36"
      },
      "outputs": [
        {
          "data": {
            "text/plain": [
              "{0: [(1.0, 428, -1, False)],\n",
              " 1: [(1.0, 228, -1, False)],\n",
              " 2: [(1.0, 348, -1, False)],\n",
              " 3: [(1.0, 328, -1, False)],\n",
              " 4: [(1.0, 328, -10, False)],\n",
              " 5: [(1.0, 328, -10, False)]}"
            ]
          },
          "execution_count": 5,
          "metadata": {},
          "output_type": "execute_result"
        }
      ],
      "source": [
        "env.P[328]"
      ]
    },
    {
      "cell_type": "markdown",
      "id": "brutal-uganda",
      "metadata": {
        "id": "brutal-uganda"
      },
      "source": [
        "$$Q(state,action)\\leftarrow (1 - \\alpha)Q(state, action)+\\alpha(reward+\\gamma max_a Q(next state, all actions))$$\n",
        "\n",
        "Where:\n",
        "\n",
        "- $\\large\\alpha$ (alpha) is the learning rate ($0<\\alpha\\leq 1$) - Just like in supervised learning settings, α is the extent to which our Q-values are being updated in every iteration.\n",
        "\n",
        "- $\\large\\gamma$ (gamma) is the discount factor ($0\\leq\\gamma\\leq 1$) - determines how much importance we want to give to future rewards. A high value for the discount factor (close to 1) captures the long-term effective award, whereas, a discount factor of 0 makes our agent consider only immediate reward, hence making it greedy."
      ]
    },
    {
      "cell_type": "code",
      "execution_count": 6,
      "id": "technological-charge",
      "metadata": {
        "id": "technological-charge"
      },
      "outputs": [],
      "source": [
        "q_table = np.zeros([env.observation_space.n, env.action_space.n])"
      ]
    },
    {
      "cell_type": "code",
      "execution_count": 11,
      "id": "chronic-things",
      "metadata": {
        "colab": {
          "base_uri": "https://localhost:8080/"
        },
        "id": "chronic-things",
        "outputId": "cc3577c8-5e32-42ca-e939-dc2fcefd653a"
      },
      "outputs": [
        {
          "name": "stderr",
          "output_type": "stream",
          "text": [
            "\r100%|██████████| 100000/100000 [00:44<00:00, 2224.37it/s]"
          ]
        },
        {
          "name": "stdout",
          "output_type": "stream",
          "text": [
            "Episode: 100000\n",
            "Training finished.\n",
            "\n"
          ]
        },
        {
          "name": "stderr",
          "output_type": "stream",
          "text": [
            "\n"
          ]
        }
      ],
      "source": [
        "# Hyperparameters\n",
        "alpha = 0.1\n",
        "gamma = 0.99\n",
        "epsilon = 0.1\n",
        "\n",
        "# For plotting metrics\n",
        "all_epochs = []\n",
        "all_penalties = []\n",
        "\n",
        "seed= 42\n",
        "rng = np.random.default_rng(seed)\n",
        "\n",
        "for i in tqdm(range(1, 100001)):\n",
        "    env.reset()\n",
        "    state = env.s\n",
        "\n",
        "    epochs, penalties, reward, = 0, 0, 0\n",
        "    done = False\n",
        "\n",
        "    while not done:\n",
        "        if rng.random() < epsilon:\n",
        "            action = env.action_space.sample() # Explore action space\n",
        "        else:\n",
        "            action = np.argmax(q_table[state]) # Exploit learned values\n",
        "\n",
        "        next_state, reward, done, info = env.step(action)[:4]\n",
        "\n",
        "        old_value = q_table[state, action]\n",
        "        next_max = np.max(q_table[next_state])\n",
        "\n",
        "        new_value = (1 - alpha) * old_value + alpha * (reward + gamma * next_max)\n",
        "        q_table[state, action] = new_value\n",
        "\n",
        "        if reward == -10:\n",
        "            penalties += 1\n",
        "\n",
        "        state = next_state\n",
        "        epochs += 1\n",
        "\n",
        "    if i % 1000 == 0:\n",
        "        clear_output(wait=True)\n",
        "        print(f\"Episode: {i}\")\n",
        "\n",
        "print(\"Training finished.\\n\")"
      ]
    },
    {
      "cell_type": "code",
      "execution_count": 12,
      "id": "arctic-lawyer",
      "metadata": {
        "colab": {
          "base_uri": "https://localhost:8080/"
        },
        "id": "arctic-lawyer",
        "outputId": "b019013d-a245-45d7-8bf5-135e77c8e0f8"
      },
      "outputs": [
        {
          "name": "stderr",
          "output_type": "stream",
          "text": [
            "100%|██████████| 100/100 [00:00<00:00, 2458.99it/s]"
          ]
        },
        {
          "name": "stdout",
          "output_type": "stream",
          "text": [
            "Results after 100 episodes:\n",
            "Average timesteps per episode: 13.83\n",
            "Average penalties per episode: 0.0\n"
          ]
        },
        {
          "name": "stderr",
          "output_type": "stream",
          "text": [
            "\n"
          ]
        }
      ],
      "source": [
        "\"\"\"Evaluate agent's performance after Q-learning\"\"\"\n",
        "\n",
        "total_epochs, total_penalties = 0, 0\n",
        "episodes = 100\n",
        "\n",
        "for _ in tqdm(range(episodes)):\n",
        "    env.reset()  # reset environment to a new, random state\n",
        "    state = env.s\n",
        "    epochs, penalties, reward = 0, 0, 0\n",
        "\n",
        "    done = False\n",
        "\n",
        "    while not done:\n",
        "        action = np.argmax(q_table[state])\n",
        "        state, reward, done, info = env.step(action)[:4]\n",
        "\n",
        "        if reward == -10:\n",
        "            penalties += 1\n",
        "\n",
        "        epochs += 1\n",
        "\n",
        "    total_penalties += penalties\n",
        "    total_epochs += epochs\n",
        "\n",
        "print(f\"Results after {episodes} episodes:\")\n",
        "print(f\"Average timesteps per episode: {total_epochs / episodes}\")\n",
        "print(f\"Average penalties per episode: {total_penalties / episodes}\")"
      ]
    },
    {
      "cell_type": "markdown",
      "id": "introductory-fashion",
      "metadata": {
        "id": "introductory-fashion"
      },
      "source": [
        "Hyperparameters and optimizations\n",
        "The values of ($\\large\\alpha$) `alpha`, ($\\large\\gamma$) `gamma`, and ($\\large\\epsilon$) `epsilon` were mostly based on intuition and some \"hit and trial\", but there are better ways to come up with good values.\n",
        "\n",
        "Ideally, all three should decrease over time because as the agent continues to learn, it actually builds up more resilient priors;\n",
        "\n",
        "$\\Large\\alpha$: (the learning rate) should decrease as you continue to gain a larger and larger knowledge base.\n",
        "\n",
        "$\\Large\\gamma$: as you get closer and closer to the deadline, your preference for near-term reward should increase, as you won't be around long enough to get the long-term reward, which means your gamma should decrease.\n",
        "\n",
        "$\\Large\\epsilon$: as we develop our strategy, we have less need of exploration and more exploitation to get more utility from our policy, so as trials increase, epsilon should decrease."
      ]
    },
    {
      "cell_type": "code",
      "execution_count": 15,
      "id": "rocky-initial",
      "metadata": {
        "colab": {
          "base_uri": "https://localhost:8080/"
        },
        "id": "rocky-initial",
        "outputId": "05d67863-5989-4a52-d72e-a403a6e444cb"
      },
      "outputs": [
        {
          "name": "stdout",
          "output_type": "stream",
          "text": [
            "20\n"
          ]
        }
      ],
      "source": [
        "# Play an episode\n",
        "\n",
        "env.reset()  # reset environment to a new, random state\n",
        "state = env.s\n",
        "env.render()\n",
        "time.sleep(0.5)\n",
        "done = False\n",
        "\n",
        "while not done:\n",
        "    action = np.argmax(q_table[state])\n",
        "    state, reward, done, info = env.step(action)[:4]\n",
        "    clear_output(wait=True)\n",
        "    env.render()\n",
        "    print(reward)\n",
        "    time.sleep(0.5)"
      ]
    },
    {
      "cell_type": "markdown",
      "id": "eecad59f",
      "metadata": {},
      "source": [
        "4 Task C"
      ]
    },
    {
      "cell_type": "code",
      "execution_count": 18,
      "id": "422756e0",
      "metadata": {},
      "outputs": [],
      "source": [
        "env = gym.make(\"Taxi-v3\").env"
      ]
    },
    {
      "cell_type": "code",
      "execution_count": 59,
      "id": "514ca6ec",
      "metadata": {},
      "outputs": [],
      "source": [
        "#Define fitness function for the Genetic Algorithm\n",
        "def ga_fitness2(chromosome):\n",
        "    #total_epochs, total_penalties = 0, 0\n",
        "    total_reward = 0\n",
        "    episodes = 20\n",
        "\n",
        "    for _ in range(episodes):\n",
        "        env.reset()  # reset environment to a new, random state\n",
        "        state = env.s\n",
        "        epochs, reward = 0, 0\n",
        "\n",
        "        done = False\n",
        "\n",
        "        while epochs < 50:\n",
        "            action = np.argmax(chromosome[state, :])\n",
        "            state, reward, done = env.step(action)[:3]\n",
        "            total_reward += reward\n",
        "            epochs += 1\n",
        "        \n",
        "    return total_reward / episodes  "
      ]
    },
    {
      "cell_type": "code",
      "execution_count": 60,
      "id": "82831ec6",
      "metadata": {},
      "outputs": [],
      "source": [
        "def ga_fitness(chromosome):\n",
        "    total_reward = 0\n",
        "    episodes = 20\n",
        "    solved_episodes = 0\n",
        "\n",
        "    for _ in range(episodes):\n",
        "        env.reset()\n",
        "        state = env.s\n",
        "        reward = 0\n",
        "\n",
        "        for _ in range(50):  # Limit the number of steps\n",
        "            action = np.argmax(chromosome[state, :])\n",
        "            state, step_reward, done = env.step(action)[:3]\n",
        "            reward += step_reward\n",
        "\n",
        "            if done:\n",
        "                break\n",
        "\n",
        "        total_reward += reward\n",
        "        if reward > 0:  # The problem is considered solved if the agent reached the goal\n",
        "            solved_episodes += 1\n",
        "\n",
        "    # Calculate the fitness as a combination of average reward and success rate\n",
        "    fitness = (total_reward / episodes) + (solved_episodes / episodes)\n",
        "    return fitness"
      ]
    },
    {
      "cell_type": "code",
      "execution_count": 12,
      "id": "1a5654f9",
      "metadata": {},
      "outputs": [],
      "source": [
        "def start_values():\n",
        "    q_table = np.zeros([env.observation_space.n, env.action_space.n])\n",
        "    # Hyperparameters\n",
        "    alpha = 0.1\n",
        "    gamma = 0.99\n",
        "    epsilon = 0.1\n",
        "\n",
        "    seed= 42\n",
        "    rng = np.random.default_rng(seed)\n",
        "\n",
        "    for i in tqdm(range(1, 1001)):\n",
        "        env.reset()\n",
        "        state = env.s\n",
        "\n",
        "        epochs, penalties, reward, = 0, 0, 0\n",
        "        done = False\n",
        "\n",
        "        while not done:\n",
        "            if rng.random() < epsilon:\n",
        "                action = env.action_space.sample() # Explore action space\n",
        "            else:\n",
        "                action = np.argmax(q_table[state]) # Exploit learned values\n",
        "\n",
        "            next_state, reward, done, info = env.step(action)[:4]\n",
        "\n",
        "            old_value = q_table[state, action]\n",
        "            next_max = np.max(q_table[next_state])\n",
        "\n",
        "            new_value = (1 - alpha) * old_value + alpha * (reward + gamma * next_max)\n",
        "            q_table[state, action] = new_value\n",
        "\n",
        "            if reward == -10:\n",
        "                penalties += 1\n",
        "\n",
        "            state = next_state\n",
        "            epochs += 1\n",
        "\n",
        "        if i % 1000 == 0:\n",
        "            clear_output(wait=True)\n",
        "            print(f\"Episode: {i}\")\n",
        "            \n",
        "    return q_table"
      ]
    },
    {
      "cell_type": "code",
      "execution_count": 52,
      "id": "5cd2e0fe",
      "metadata": {},
      "outputs": [
        {
          "name": "stderr",
          "output_type": "stream",
          "text": [
            "\r100%|██████████| 1000/1000 [00:02<00:00, 449.63it/s]"
          ]
        },
        {
          "name": "stdout",
          "output_type": "stream",
          "text": [
            "Episode: 1000\n",
            "(500, 6)\n"
          ]
        },
        {
          "name": "stderr",
          "output_type": "stream",
          "text": [
            "\n"
          ]
        }
      ],
      "source": [
        "#Create population of ANNs\n",
        "population_size = 50\n",
        "\n",
        "chromosomes = []\n",
        "\n",
        "for i in range(population_size):\n",
        "    tmp1 = start_values()\n",
        "    print(np.shape(tmp1))\n",
        "    chromosomes.append(tmp1)"
      ]
    },
    {
      "cell_type": "code",
      "execution_count": 42,
      "id": "4ce2f22f",
      "metadata": {},
      "outputs": [
        {
          "name": "stdout",
          "output_type": "stream",
          "text": [
            "500\n"
          ]
        }
      ],
      "source": [
        "print(chromosomes[0].shape[0])"
      ]
    },
    {
      "cell_type": "code",
      "execution_count": 29,
      "id": "97750ccc",
      "metadata": {},
      "outputs": [],
      "source": [
        "def ga_select(fitness_list):\n",
        "    return np.argpartition(fitness_list, -5)[-5:]"
      ]
    },
    {
      "cell_type": "code",
      "execution_count": 43,
      "id": "44f73368",
      "metadata": {},
      "outputs": [],
      "source": [
        "def ga_crossover(parents):\n",
        "    no_of_childs = 45\n",
        "    no_of_parents = 5\n",
        "    offspring_list = []\n",
        "\n",
        "    while len(offspring_list) < no_of_childs:\n",
        "        parent1_index = np.random.randint(0, no_of_parents)\n",
        "        parent2_index = np.random.randint(0, no_of_parents)\n",
        "        \n",
        "        cross_over_index = np.random.randint(0, parents[0].shape[0])\n",
        "\n",
        "        offspring = np.copy(parents[parent1_index])\n",
        "        offspring[cross_over_index:] = parents[parent2_index][cross_over_index:]\n",
        "        \n",
        "        offspring_list.append(offspring)\n",
        "\n",
        "    return offspring_list"
      ]
    },
    {
      "cell_type": "code",
      "execution_count": 62,
      "id": "f603cbee",
      "metadata": {},
      "outputs": [],
      "source": [
        "def ga_mutation2(offspring):\n",
        "    mutation_rate = 0.1\n",
        "    mutated_offspring = np.copy(offspring)\n",
        "\n",
        "    for i in range(mutated_offspring.shape[0]):  # Loop through rows\n",
        "        for j in range(mutated_offspring.shape[1]):  # Loop through columns\n",
        "            if np.random.rand() < mutation_rate:\n",
        "                mutated_offspring[i, j] += np.random.uniform(-0.1, 0.1)\n",
        "\n",
        "    return mutated_offspring"
      ]
    },
    {
      "cell_type": "code",
      "execution_count": 61,
      "id": "2d06a22c",
      "metadata": {},
      "outputs": [],
      "source": [
        "def ga_mutation(offspring):\n",
        "    mutation_rate = 0.1\n",
        "    mutated_offspring = np.copy(offspring)\n",
        "\n",
        "    for i in range(mutated_offspring.shape[0]):  # Loop through rows\n",
        "        mutation_occurred = False  # Flag to track if at least one mutation occurred\n",
        "\n",
        "        for j in range(mutated_offspring.shape[1]):  # Loop through columns\n",
        "            if np.random.rand() < mutation_rate:\n",
        "                # Mutate the value by adding a random small value\n",
        "                mutated_offspring[i, j] += np.random.uniform(-2, 2)\n",
        "                mutation_occurred = True\n",
        "\n",
        "        # If no mutation occurred for this individual, mutate one random gene\n",
        "        if not mutation_occurred:\n",
        "            row_to_mutate = i\n",
        "            column_to_mutate = np.random.randint(0, mutated_offspring.shape[1])\n",
        "            mutated_offspring[row_to_mutate, column_to_mutate] += np.random.uniform(-2, 2)\n",
        "\n",
        "    return mutated_offspring\n"
      ]
    },
    {
      "cell_type": "code",
      "execution_count": 67,
      "id": "d019f665",
      "metadata": {},
      "outputs": [
        {
          "name": "stderr",
          "output_type": "stream",
          "text": [
            "100%|██████████| 1000/1000 [08:04<00:00,  2.06it/s]\n"
          ]
        },
        {
          "data": {
            "image/png": "[encoded data removed]",
            "text/plain": [
              "<Figure size 640x480 with 1 Axes>"
            ]
          },
          "metadata": {},
          "output_type": "display_data"
        }
      ],
      "source": [
        "#Runner\n",
        "import matplotlib.pyplot as plt\n",
        "generations = 1000\n",
        "generation_list_plot = []\n",
        "fitness_list_plot = []\n",
        "\n",
        "for generation in tqdm(range(generations)):\n",
        "    fitness_list = []\n",
        "    for chromosome in chromosomes: \n",
        "        fitness_list.append(ga_fitness(chromosome))\n",
        "    selected_parents_index = ga_select(fitness_list)\n",
        "    selected_parents = []\n",
        "    for i in selected_parents_index:\n",
        "        selected_parents.append(chromosomes[i])\n",
        "    offspring = ga_crossover(selected_parents)\n",
        "    mutated_offspring = ga_mutation(offspring)\n",
        "    new_pop=np.vstack((selected_parents,mutated_offspring))\n",
        "    chromosomes = new_pop\n",
        "    fitness_list_plot.append(max(fitness_list))  # Append the best fitness of the generation\n",
        "    generation_list_plot.append(generation)\n",
        "    #print(\"Generation\", generation, \"Best fitness\", max(fitness_list))\n",
        "\n",
        "# Create a line chart to visualize fitness over generations\n",
        "plt.plot(generation_list_plot, fitness_list_plot)\n",
        "plt.title('Fitness Progress over Generations')\n",
        "plt.xlabel('Generation')\n",
        "plt.ylabel('Best Fitness')\n",
        "plt.grid(True)\n",
        "plt.show()"
      ]
    }
  ],
  "metadata": {
    "colab": {
      "provenance": []
    },
    "kernelspec": {
      "display_name": "Python 3",
      "language": "python",
      "name": "python3"
    },
    "language_info": {
      "codemirror_mode": {
        "name": "ipython",
        "version": 3
      },
      "file_extension": ".py",
      "mimetype": "text/x-python",
      "name": "python",
      "nbconvert_exporter": "python",
      "pygments_lexer": "ipython3",
      "version": "3.9.15"
    }
  },
  "nbformat": 4,
  "nbformat_minor": 5
}
